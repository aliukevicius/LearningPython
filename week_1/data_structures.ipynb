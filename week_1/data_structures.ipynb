{
 "cells": [
  {
   "attachments": {},
   "cell_type": "markdown",
   "metadata": {},
   "source": [
    "# Data Structures\n",
    "\n",
    "## ChatGPT prompts\n",
    "\n",
    "```\n",
    "Teach me about Lists and Tuples. What are the common uses cases? Provide examples. When it is better to use List and when to use Tuple?\n",
    "\n",
    "Provide examples of using tuple as a dictionary key\n",
    "```"
   ]
  },
  {
   "attachments": {},
   "cell_type": "markdown",
   "metadata": {},
   "source": [
    "## Lists\n",
    "\n",
    "Lists in Python are used to store multiple items in a single variable. They are mutable, which means their elements can be changed after they are created.\n",
    "\n",
    "Common use cases for lists include storing collections of items that may change over time, such as a list of users in a chat room, a list of tasks in a to-do list app, or a list of products in a shopping cart."
   ]
  },
  {
   "cell_type": "code",
   "execution_count": null,
   "metadata": {},
   "outputs": [],
   "source": [
    "fruits = ['apple', 'banana', 'cherry']\n",
    "print(fruits)\n",
    "\n",
    "# Modify existing item\n",
    "fruits[1] = 'pineapple'\n",
    "print(fruits)\n",
    "\n",
    "# Add new item at the end of the list\n",
    "fruits.append('dragonfruit')\n",
    "print(fruits)"
   ]
  },
  {
   "attachments": {},
   "cell_type": "markdown",
   "metadata": {},
   "source": [
    "## Tuples\n",
    "Tuples are also used to store multiple items in a single variable, but unlike lists, they are immutable, which means their elements cannot be changed after they are created. However, this only applies to the tuple itself, not to the items that it contains.\n",
    "\n",
    "If a tuple contains a mutable object, such as a list, that object remains mutable, even though it's inside an immutable object. This means you can change the content of the list, like adding, removing, or changing items, even though the list is inside a tuple.\n",
    "\n",
    "Tuples are often used for groups of values that go together and will not change, such as coordinates on a graph, the RGB values of a color, or the date of birth of a person (year, month, day).\n",
    "\n",
    "Another common use case for tuples is when you want to ensure that an item's value cannot change. For instance, if you want to make sure that a specific configuration setting doesn't get altered accidentally, you could store it in a tuple."
   ]
  },
  {
   "cell_type": "code",
   "execution_count": null,
   "metadata": {},
   "outputs": [],
   "source": [
    "coordinates = (4, 5)\n",
    "\n",
    "print(coordinates)\n",
    "print(coordinates[1])\n",
    "\n",
    "coordinates = (5, 3, 4)\n",
    "print(coordinates)\n",
    "\n",
    "student = (\"John\", \"Peterson\", [3, 6, 9, 10])\n",
    "print(student)\n",
    "\n",
    "# It's OK to do changes to the list that's inside a tuple\n",
    "student[2].append(8)\n",
    "print(student)\n"
   ]
  },
  {
   "attachments": {},
   "cell_type": "markdown",
   "metadata": {},
   "source": [
    "Trying to changes tuples value will cause an error"
   ]
  },
  {
   "cell_type": "code",
   "execution_count": null,
   "metadata": {},
   "outputs": [],
   "source": [
    "coordinates[1] = 10  # Raises a TypeError"
   ]
  },
  {
   "attachments": {},
   "cell_type": "markdown",
   "metadata": {},
   "source": [
    "## Using tuple as a dictionary key"
   ]
  },
  {
   "cell_type": "code",
   "execution_count": null,
   "metadata": {},
   "outputs": [],
   "source": [
    "employee = {\n",
    "    (\"John\", \"Doe\"): {\"age\": 30, \"position\": \"Software Engineer\"},\n",
    "    (\"Jane\", \"Doe\"): {\"age\": 28, \"position\": \"Data Scientist\"},\n",
    "}\n",
    "\n",
    "print(employee[(\"John\", \"Doe\")])\n",
    "print(employee[(\"Jane\", \"Doe\")])"
   ]
  },
  {
   "attachments": {},
   "cell_type": "markdown",
   "metadata": {},
   "source": [
    "## Practice projects\n",
    "\n",
    "### Prompt\n",
    "\n",
    "```\n",
    "Generate me at least five mini projects that would allow to test my knowledge regarding List manipulations, tuple unpacking, simple problems involving lists/tuples\n",
    "```"
   ]
  },
  {
   "attachments": {},
   "cell_type": "markdown",
   "metadata": {},
   "source": [
    "1. **Inventory Manager**: Store a list of items in stock, each represented as a tuple with the item name, quantity, and price. Write functions to add an item, remove an item, update the quantity of an item, and calculate the total value of the inventory."
   ]
  },
  {
   "cell_type": "code",
   "execution_count": null,
   "metadata": {},
   "outputs": [],
   "source": [
    "class InventoryManager:\n",
    "    def __init__(self):\n",
    "        self.inventory = []\n",
    "    \n",
    "    def add_item(self, name, quantity, price):\n",
    "        self.inventory.append((name, quantity, price))\n",
    "    \n",
    "    def remove_item(self, name):\n",
    "        for i in range(len(self.inventory)):\n",
    "            if self.inventory[i][0] == name:\n",
    "                del self.inventory[i] \n",
    "                break\n",
    "    \n",
    "    def update_quantity(self, name, new_quantity):\n",
    "        for i in range(len(self.inventory)):\n",
    "            if self.inventory[i][0] == name:\n",
    "                self.inventory[i] = (name, new_quantity, self.inventory[i][2])\n",
    "                break\n",
    "    \n",
    "    def get_total_value(self):\n",
    "        total = 0\n",
    "        for i in range(len(self.inventory)):\n",
    "            total += self.inventory[i][1] * self.inventory[i][2]\n",
    "\n",
    "        return total\n",
    "    \n",
    "    def list_items(self):\n",
    "        for i in range(len(self.inventory)):\n",
    "            print(self.inventory[i])\n",
    "\n",
    "inventory = InventoryManager()\n",
    "\n",
    "inventory.add_item('Apple', 10, 0.2)\n",
    "inventory.add_item('Tomato', 3, 0.3)\n",
    "\n",
    "inventory.list_items()\n",
    "\n",
    "\n",
    "inventory.update_quantity('Tomato', 33)\n",
    "inventory.list_items()\n",
    "\n",
    "print(f'Total inventory value: {inventory.get_total_value()}')\n",
    "\n",
    "\n",
    "inventory.remove_item('Apple')\n",
    "inventory.list_items()\n",
    "\n"
   ]
  },
  {
   "attachments": {},
   "cell_type": "markdown",
   "metadata": {},
   "source": [
    "2. **Contact List**: Create a list of tuples where each tuple contains a person's name, phone number, and email address. Write functions to add a contact, remove a contact, search for a contact by name, and sort the contacts alphabetically by name."
   ]
  },
  {
   "attachments": {},
   "cell_type": "markdown",
   "metadata": {},
   "source": [
    "3. **Recipe Book**: Create a list of tuples, each containing a recipe name and a list of ingredients. Write functions to add a recipe, remove a recipe, and search for recipes based on an ingredient."
   ]
  },
  {
   "attachments": {},
   "cell_type": "markdown",
   "metadata": {},
   "source": [
    "4. **Library Database**: Implement a system to keep track of books in a library. Each book can be represented as a tuple with details like title, author, and year of publication. The entire library can be a list of these tuples. Add functions to add a book, remove a book, and find books by a specific author."
   ]
  },
  {
   "attachments": {},
   "cell_type": "markdown",
   "metadata": {},
   "source": [
    "5. **Restaurant Menu Manager**: Create a list of tuples, where each tuple represents a dish and includes the dish name, price, and list of ingredients. Write functions to add a dish, remove a dish, and find all dishes that include a specific ingredient."
   ]
  }
 ],
 "metadata": {
  "kernelspec": {
   "display_name": "Python 3",
   "language": "python",
   "name": "python3"
  },
  "language_info": {
   "codemirror_mode": {
    "name": "ipython",
    "version": 3
   },
   "file_extension": ".py",
   "mimetype": "text/x-python",
   "name": "python",
   "nbconvert_exporter": "python",
   "pygments_lexer": "ipython3",
   "version": "3.11.3"
  },
  "orig_nbformat": 4
 },
 "nbformat": 4,
 "nbformat_minor": 2
}
