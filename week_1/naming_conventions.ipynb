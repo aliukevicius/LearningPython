{
 "cells": [
  {
   "attachments": {},
   "cell_type": "markdown",
   "metadata": {},
   "source": [
    "# Naming conventions\n",
    "\n",
    "## ChatGPT prompts\n",
    "\n",
    "```\n",
    "what are Python naming conventions for variable, functions and everything else? Provide examples.\n",
    "\n",
    "What is the file naming convention in python?\n",
    "```\n",
    "\n",
    "For more details, you can refer to the [PEP 8 style guide](https://pep8.org/#naming-conventions)."
   ]
  },
  {
   "attachments": {},
   "cell_type": "markdown",
   "metadata": {},
   "source": [
    "## Variable naming\n",
    "Variables should be lowercase. Words should be separated by underscores `_`. This is often referred to as `snake_case`."
   ]
  },
  {
   "cell_type": "code",
   "execution_count": null,
   "metadata": {},
   "outputs": [],
   "source": [
    "user_name = \"Alice\"\n",
    "user_age = 25\n",
    "user_location = \"New York\""
   ]
  },
  {
   "attachments": {},
   "cell_type": "markdown",
   "metadata": {},
   "source": [
    "## Function names\n",
    "\n",
    "Function names should also be lowercase, with words separated by underscores. Functions typically perform actions, so their names often take the form of a verb or verb phrase."
   ]
  },
  {
   "cell_type": "code",
   "execution_count": null,
   "metadata": {},
   "outputs": [],
   "source": [
    "def calculate_average(numbers):\n",
    "    return sum(numbers) / len(numbers)\n",
    "\n",
    "def print_greeting(name):\n",
    "    print(f\"Hello, {name}!\")"
   ]
  },
  {
   "attachments": {},
   "cell_type": "markdown",
   "metadata": {},
   "source": [
    "## Class names\n",
    "\n",
    "Class names should be written in `CamelCase`, with the first letter of each word capitalized and no underscores between words."
   ]
  },
  {
   "cell_type": "code",
   "execution_count": null,
   "metadata": {},
   "outputs": [],
   "source": [
    "class UserProfile:\n",
    "    pass\n",
    "\n",
    "class UserWallet:\n",
    "    pass"
   ]
  },
  {
   "attachments": {},
   "cell_type": "markdown",
   "metadata": {},
   "source": [
    "## Constant Names\n",
    "Constants, which are variables whose values should not change, are written in uppercase, with words separated by underscores."
   ]
  },
  {
   "cell_type": "code",
   "execution_count": null,
   "metadata": {},
   "outputs": [],
   "source": [
    "# Good constant name\n",
    "MAX_SPEED = 100\n",
    "MIN_SPEED = 0"
   ]
  },
  {
   "attachments": {},
   "cell_type": "markdown",
   "metadata": {},
   "source": [
    "## Module Names and Package Names\n",
    "\n",
    "Module names should be lowercase, with underscores allowed if it improves readability. Package names should be lowercase, preferably without underscores."
   ]
  },
  {
   "cell_type": "code",
   "execution_count": null,
   "metadata": {},
   "outputs": [],
   "source": [
    "# Good module/package names\n",
    "import my_module\n",
    "import mypackage"
   ]
  },
  {
   "attachments": {},
   "cell_type": "markdown",
   "metadata": {},
   "source": [
    "## File names\n",
    "\n",
    "* All lowercase letters\n",
    "* Words separated by underscores (_) to improve readability\n",
    "* Avoid using Python keyword names\n",
    "* Don't start the name with a digit\n",
    "\n",
    "For example, you might name a Python file `my_script.py` or `data_loader.py`."
   ]
  }
 ],
 "metadata": {
  "language_info": {
   "name": "python"
  },
  "orig_nbformat": 4
 },
 "nbformat": 4,
 "nbformat_minor": 2
}
