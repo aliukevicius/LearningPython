{
 "cells": [
  {
   "attachments": {},
   "cell_type": "markdown",
   "metadata": {},
   "source": [
    "# Built-in Types\n",
    "\n",
    "Related documentation\n",
    "https://docs.python.org/3/library/stdtypes.html\n"
   ]
  },
  {
   "attachments": {},
   "cell_type": "markdown",
   "metadata": {},
   "source": [
    "## Variable type and assignment\n",
    "Python is a dynamically-typed language, which means that the type of a variable is inferred from it's value, and variable's type can be changed during the code execution. "
   ]
  },
  {
   "cell_type": "code",
   "execution_count": null,
   "metadata": {},
   "outputs": [],
   "source": [
    "# Assignment operations creates the variable\n",
    "x = 5\n",
    "\n",
    "print(f'Type of \"{x}\" is {type(x).__name__}')"
   ]
  },
  {
   "attachments": {},
   "cell_type": "markdown",
   "metadata": {},
   "source": [
    "As we can see from the below code, variables type depends from the value it contains and it can be freely changed."
   ]
  },
  {
   "cell_type": "code",
   "execution_count": null,
   "metadata": {},
   "outputs": [],
   "source": [
    "x = 5.0\n",
    "print(f'Type of \"{x}\" is {type(x).__name__}')\n",
    "\n",
    "x = 'Hello World'\n",
    "print(f'Type of \"{x}\" is {type(x).__name__}')\n",
    "\n",
    "x = True\n",
    "print(f'Type of \"{x}\" is {type(x).__name__}')"
   ]
  },
  {
   "attachments": {},
   "cell_type": "markdown",
   "metadata": {},
   "source": [
    "Reading material suggested by ChatGPT\n",
    "\n",
    "* https://www.w3schools.com/python/python_variables.asp\n",
    "* https://www.w3schools.com/python/python_datatypes.asp "
   ]
  },
  {
   "attachments": {},
   "cell_type": "markdown",
   "metadata": {},
   "source": [
    "## Practice projects\n",
    "### Prompt\n",
    "\n",
    "```\n",
    "Suggest me some small projects I could do to practice my knowledge about variables and Basic Data Types (integers, floats, strings, booleans)\n",
    "```\n",
    "\n",
    "### Suggested projects"
   ]
  },
  {
   "attachments": {},
   "cell_type": "markdown",
   "metadata": {},
   "source": [
    "1. **Temperature Converter**: Write a program that converts temperatures between Fahrenheit and Celsius (and vice versa). You'll have to work with floats and perform arithmetic operations."
   ]
  },
  {
   "cell_type": "code",
   "execution_count": null,
   "metadata": {
    "tags": [
     "hide-cell"
    ]
   },
   "outputs": [],
   "source": [
    "\n",
    "f = float(input(\"Enter temperature in Fahrenheit: \"))\n",
    "\n",
    "c = (f - 32) * 5/9\n",
    "\n",
    "print(f'Temperature in Celsius is: {c}')"
   ]
  },
  {
   "attachments": {},
   "cell_type": "markdown",
   "metadata": {},
   "source": [
    " 2. **Simple Calculator**: Create a program that takes two numbers as input and performs various calculations (addition, subtraction, multiplication, division). This will involve working with integers and/or floats and performing arithmetic operations.\n"
   ]
  },
  {
   "cell_type": "code",
   "execution_count": null,
   "metadata": {
    "tags": [
     "hide-cell"
    ]
   },
   "outputs": [],
   "source": [
    "a = float(input('Enter first number: '))\n",
    "b = float(input('Enter second number: '))\n",
    "\n",
    "print(f'The sum of \"{a}\" and \"{b}\" is: { a + b}')"
   ]
  },
  {
   "attachments": {},
   "cell_type": "markdown",
   "metadata": {},
   "source": [
    "3. **Mad Libs Generator**: Create a program that asks the user to input various types of words (like a noun, verb, adjective, etc.) and then inserts those words into a story. This is a great way to practice working with strings."
   ]
  },
  {
   "cell_type": "code",
   "execution_count": null,
   "metadata": {
    "tags": [
     "hide-cell"
    ]
   },
   "outputs": [],
   "source": [
    "\n",
    "adjective = input(\"Enter an adjective: \")\n",
    "noun = input(\"Enter a noun: \")\n",
    "verb = input(\"Enter a verb: \")\n",
    "\n",
    "print(f'The {adjective} {noun} {verb} in the park.')"
   ]
  },
  {
   "attachments": {},
   "cell_type": "markdown",
   "metadata": {},
   "source": [
    "4. **Guess the Number**: Write a program where the computer randomly selects a number between 1 and 100 and the user has to guess what it is. If the guess is too high or too low, the program should let the user know. This project involves working with integers, booleans, and conditionals."
   ]
  },
  {
   "cell_type": "code",
   "execution_count": null,
   "metadata": {
    "tags": [
     "hide-cell"
    ]
   },
   "outputs": [],
   "source": [
    "import random\n",
    "\n",
    "number = random.randint(1, 5)\n",
    "guess = int(input('Guess a number between 1 and 5: '))\n",
    "\n",
    "if number == guess:\n",
    "    print('Your guess was correct')\n",
    "else: \n",
    "    print(f'Your guess was incorrect. The correct number was {number}')"
   ]
  },
  {
   "attachments": {},
   "cell_type": "markdown",
   "metadata": {},
   "source": [
    "5. **Personal Information Organizer**: Create a program that asks the user for various pieces of information like their name, age, and favorite color, then stores that information in variables and prints it out in a formatted string. This is a simple way to practice with strings and potentially other data types as well."
   ]
  },
  {
   "cell_type": "code",
   "execution_count": null,
   "metadata": {
    "tags": [
     "hide-cell"
    ]
   },
   "outputs": [],
   "source": [
    "name = input(\"What is your name? \")\n",
    "age = int(input(\"How old are you? \"))\n",
    "fav_color = input(\"What is your favorite color? \")\n",
    "\n",
    "print(f\"{name}'s, who is now {age} years old, favorite color is {fav_color}\")"
   ]
  }
 ],
 "metadata": {
  "kernelspec": {
   "display_name": "Python 3",
   "language": "python",
   "name": "python3"
  },
  "language_info": {
   "codemirror_mode": {
    "name": "ipython",
    "version": 3
   },
   "file_extension": ".py",
   "mimetype": "text/x-python",
   "name": "python",
   "nbconvert_exporter": "python",
   "pygments_lexer": "ipython3",
   "version": "3.11.3"
  },
  "orig_nbformat": 4
 },
 "nbformat": 4,
 "nbformat_minor": 2
}
